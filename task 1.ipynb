{
 "cells": [
  {
   "cell_type": "markdown",
   "id": "empty-classification",
   "metadata": {},
   "source": [
    "# Ayush Porwal\n",
    "\n",
    "# Data Science and Business Analytics intern at THE SPARKS FOUNDATION\n",
    "\n",
    "# GRIP APRIL 2021"
   ]
  },
  {
   "cell_type": "markdown",
   "id": "standing-defendant",
   "metadata": {},
   "source": [
    "## TASK-1 : Prediction using supervised ML"
   ]
  },
  {
   "cell_type": "code",
   "execution_count": 2,
   "id": "union-injury",
   "metadata": {},
   "outputs": [],
   "source": [
    "#importing the suitable libraries\n",
    "\n",
    "import pandas as pd\n",
    "import matplotlib.pyplot as plt\n",
    "from matplotlib import style\n",
    "style.use('ggplot')\n",
    "import numpy as np\n",
    "from sklearn import preprocessing,model_selection\n",
    "from sklearn.linear_model import LinearRegression"
   ]
  },
  {
   "cell_type": "code",
   "execution_count": 3,
   "id": "subsequent-playlist",
   "metadata": {},
   "outputs": [
    {
     "data": {
      "text/html": [
       "<div>\n",
       "<style scoped>\n",
       "    .dataframe tbody tr th:only-of-type {\n",
       "        vertical-align: middle;\n",
       "    }\n",
       "\n",
       "    .dataframe tbody tr th {\n",
       "        vertical-align: top;\n",
       "    }\n",
       "\n",
       "    .dataframe thead th {\n",
       "        text-align: right;\n",
       "    }\n",
       "</style>\n",
       "<table border=\"1\" class=\"dataframe\">\n",
       "  <thead>\n",
       "    <tr style=\"text-align: right;\">\n",
       "      <th></th>\n",
       "      <th>Hours</th>\n",
       "      <th>Scores</th>\n",
       "    </tr>\n",
       "  </thead>\n",
       "  <tbody>\n",
       "    <tr>\n",
       "      <th>0</th>\n",
       "      <td>2.5</td>\n",
       "      <td>21</td>\n",
       "    </tr>\n",
       "    <tr>\n",
       "      <th>1</th>\n",
       "      <td>5.1</td>\n",
       "      <td>47</td>\n",
       "    </tr>\n",
       "    <tr>\n",
       "      <th>2</th>\n",
       "      <td>3.2</td>\n",
       "      <td>27</td>\n",
       "    </tr>\n",
       "    <tr>\n",
       "      <th>3</th>\n",
       "      <td>8.5</td>\n",
       "      <td>75</td>\n",
       "    </tr>\n",
       "    <tr>\n",
       "      <th>4</th>\n",
       "      <td>3.5</td>\n",
       "      <td>30</td>\n",
       "    </tr>\n",
       "  </tbody>\n",
       "</table>\n",
       "</div>"
      ],
      "text/plain": [
       "   Hours  Scores\n",
       "0    2.5      21\n",
       "1    5.1      47\n",
       "2    3.2      27\n",
       "3    8.5      75\n",
       "4    3.5      30"
      ]
     },
     "execution_count": 3,
     "metadata": {},
     "output_type": "execute_result"
    }
   ],
   "source": [
    "# importing data set csv file using pandas and checking our dataframe\n",
    "\n",
    "df = pd.read_csv('https://raw.githubusercontent.com/AdiPersonalWorks/Random/master/student_scores%20-%20student_scores.csv')\n",
    "df.head()"
   ]
  },
  {
   "cell_type": "code",
   "execution_count": 4,
   "id": "german-labor",
   "metadata": {},
   "outputs": [
    {
     "data": {
      "image/png": "[encoded data removed]",
      "text/plain": [
       "<Figure size 432x288 with 1 Axes>"
      ]
     },
     "metadata": {},
     "output_type": "display_data"
    }
   ],
   "source": [
    "# Plotting the distribution of scores\n",
    "\n",
    "df.plot(x = 'Hours',y = 'Scores',style = \"o\",color = 'b')\n",
    "plt.xlabel(\"Hours\")\n",
    "plt.ylabel(\"Scores\")\n",
    "plt.title('Scores of student vs Hours of study')\n",
    "plt.show()"
   ]
  },
  {
   "cell_type": "markdown",
   "id": "purple-twins",
   "metadata": {},
   "source": [
    "From the graph we can see the linear relationship between no. of hours study to the scores of students so we can apply linear regression algorithm for our analysis"
   ]
  },
  {
   "cell_type": "markdown",
   "id": "starting-guidance",
   "metadata": {},
   "source": [
    "### Preparing the data"
   ]
  },
  {
   "cell_type": "code",
   "execution_count": 5,
   "id": "liberal-newspaper",
   "metadata": {},
   "outputs": [],
   "source": [
    "X = df.iloc[:,:-1].values     #Creating our featureset \n",
    "y = df.iloc[:,1].values       #Creating the labels"
   ]
  },
  {
   "cell_type": "code",
   "execution_count": 6,
   "id": "hazardous-element",
   "metadata": {},
   "outputs": [],
   "source": [
    "#Divide our data in the testing and training set using the model_selection library of python\n",
    "\n",
    "X_train,X_test,y_train,y_test = model_selection.train_test_split(X,y,test_size = 0.2)"
   ]
  },
  {
   "cell_type": "markdown",
   "id": "objective-hunger",
   "metadata": {},
   "source": [
    "### Training our Algorithm"
   ]
  },
  {
   "cell_type": "code",
   "execution_count": 7,
   "id": "caroline-legend",
   "metadata": {},
   "outputs": [
    {
     "name": "stdout",
     "output_type": "stream",
     "text": [
      "Data is trained!\n"
     ]
    }
   ],
   "source": [
    "clf = LinearRegression()\n",
    "\n",
    "#Fitting our dataset to our algorithm\n",
    "\n",
    "clf.fit(X_train,y_train)\n",
    "\n",
    "print(\"Data is trained!\")"
   ]
  },
  {
   "cell_type": "code",
   "execution_count": 8,
   "id": "automotive-tennessee",
   "metadata": {},
   "outputs": [
    {
     "data": {
      "image/png": "[encoded data removed]",
      "text/plain": [
       "<Figure size 432x288 with 1 Axes>"
      ]
     },
     "metadata": {},
     "output_type": "display_data"
    }
   ],
   "source": [
    "clf_line = clf.coef_*X + clf.intercept_    #Regression Line\n",
    "\n",
    "#Plotting the regression line\n",
    "plt.scatter(X,y)\n",
    "plt.plot(X,clf_line)\n",
    "plt.show()"
   ]
  },
  {
   "cell_type": "markdown",
   "id": "scientific-spank",
   "metadata": {},
   "source": [
    "### Making Prediction"
   ]
  },
  {
   "cell_type": "code",
   "execution_count": 9,
   "id": "monthly-constraint",
   "metadata": {},
   "outputs": [
    {
     "name": "stdout",
     "output_type": "stream",
     "text": [
      "Testing data:  [[6.1]\n",
      " [5.9]\n",
      " [8.3]\n",
      " [9.2]\n",
      " [2.7]]\n",
      "predicted value:  [62.35922114 60.36486528 84.29713569 93.27173709 28.45517139]\n"
     ]
    }
   ],
   "source": [
    "#Printing the test data and predicted value using our algorithm\n",
    "\n",
    "print(\"Testing data: \" , X_test)\n",
    "\n",
    "yhat = clf.predict(X_test)\n",
    "print(\"predicted value: \",yhat)"
   ]
  },
  {
   "cell_type": "code",
   "execution_count": 10,
   "id": "agreed-prague",
   "metadata": {},
   "outputs": [
    {
     "name": "stdout",
     "output_type": "stream",
     "text": [
      "93.7703260618677\n"
     ]
    }
   ],
   "source": [
    "#Testing our given data i.e. 9.25 hours in our trained our and finding the score of Student\n",
    "\n",
    "test_value = 9.25\n",
    "test_value = np.reshape(test_value,(-1,1))\n",
    "predicted_score = clf.predict(test_value)\n",
    "print(predicted_score[0])"
   ]
  },
  {
   "cell_type": "markdown",
   "id": "raised-marine",
   "metadata": {},
   "source": [
    "### Evaluating the Model"
   ]
  },
  {
   "cell_type": "markdown",
   "id": "structured-puppy",
   "metadata": {},
   "source": [
    "The final step is to evaluate the performance of algorithm. This step is particularly important to compare how well different algorithms perform on a particular dataset. For simplicity here, we have chosen the mean square error and score for getting our accuracy of our model. There are many such metrics."
   ]
  },
  {
   "cell_type": "code",
   "execution_count": 11,
   "id": "unlike-discharge",
   "metadata": {},
   "outputs": [
    {
     "name": "stdout",
     "output_type": "stream",
     "text": [
      "Mean Absolute error:  3.277922994177313\n"
     ]
    }
   ],
   "source": [
    "from sklearn import metrics\n",
    "print('Mean Absolute error: ', metrics.mean_absolute_error(y_test,yhat))"
   ]
  },
  {
   "cell_type": "code",
   "execution_count": 12,
   "id": "numerical-florida",
   "metadata": {},
   "outputs": [
    {
     "name": "stdout",
     "output_type": "stream",
     "text": [
      "0.9677125939391586\n"
     ]
    }
   ],
   "source": [
    "#Accuracy of our model\n",
    "\n",
    "accuracy = clf.score(X_test,y_test)\n",
    "print(accuracy)"
   ]
  },
  {
   "cell_type": "code",
   "execution_count": null,
   "id": "sustainable-melissa",
   "metadata": {},
   "outputs": [],
   "source": []
  }
 ],
 "metadata": {
  "kernelspec": {
   "display_name": "Python 3",
   "language": "python",
   "name": "python3"
  },
  "language_info": {
   "codemirror_mode": {
    "name": "ipython",
    "version": 3
   },
   "file_extension": ".py",
   "mimetype": "text/x-python",
   "name": "python",
   "nbconvert_exporter": "python",
   "pygments_lexer": "ipython3",
   "version": "3.7.9"
  }
 },
 "nbformat": 4,
 "nbformat_minor": 5
}
